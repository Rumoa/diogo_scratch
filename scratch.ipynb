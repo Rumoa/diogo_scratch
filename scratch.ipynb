{
 "cells": [
  {
   "cell_type": "code",
   "execution_count": 1,
   "metadata": {},
   "outputs": [],
   "source": [
    "import jax\n",
    "import jax.numpy as jnp\n",
    "import qutip as qt\n",
    "import numpy as np\n",
    "from functools import reduce\n",
    "from jax import jit\n",
    "from jax.scipy.linalg import expm\n",
    "\n",
    "import matplotlib.pyplot as plt\n",
    "from functools import partial"
   ]
  },
  {
   "cell_type": "code",
   "execution_count": 2,
   "metadata": {},
   "outputs": [],
   "source": [
    "@jit\n",
    "def apply_iteration(rho_system, rho_bath, U):\n",
    "    rho_total = jnp.kron(rho_system, rho_bath)\n",
    "\n",
    "    rho_evolved = U @ rho_total @ jnp.conjugate(U.T)\n",
    "\n",
    "    rho_S_evolved = jnp.einsum(\"ijkj\", rho_evolved.reshape([2, 2, 2, 2]))\n",
    "    return rho_S_evolved\n",
    "\n",
    "\n",
    "# f_partial_for_scan = lambda rho_s, _: apply_iteration(rho_s, rho_bath, U)"
   ]
  },
  {
   "cell_type": "code",
   "execution_count": 39,
   "metadata": {},
   "outputs": [],
   "source": [
    "d1 = 2\n",
    "d2 = 2\n",
    "\n",
    "phi = 0.1 * np.pi / 2\n",
    "theta = 0.1 * np.pi / 2\n",
    "\n",
    "omega_1 = np.pi\n",
    "omega_2 = np.pi\n",
    "\n",
    "H_1 = 1*omega_1 / 2 * qt.sigmaz()\n",
    "H_2 = 1.7*omega_2 / 2 * qt.sigmaz()\n",
    "\n",
    "H_S = qt.tensor(H_1, qt.identity(d1)) + qt.tensor(qt.identity(d2), H_2)\n",
    "\n",
    "H_I = phi * (\n",
    "    qt.tensor(qt.sigmax(), qt.sigmax()) + qt.tensor(qt.sigmay(), qt.sigmay())\n",
    ") + theta * (qt.tensor(qt.sigmaz(), qt.sigmaz()))\n",
    "\n",
    "# reduce(\n",
    "#     lambda a, b: a + b,\n",
    "#     (map(lambda i: qt.tensor(i, i), [qt.sigmax(), qt.sigmay()])),\n",
    "# )\n",
    "\n",
    "H_T = H_S + H_I\n",
    "\n",
    "T = 1\n",
    "\n",
    "\n",
    "eigvals_2 = list(np.linalg.eigh(H_2)[0])\n",
    "\n",
    "\n",
    "rho_un = np.diag(\n",
    "    list(map(lambda eigval: np.exp(-(1 / (1 * T)) * eigval), eigvals_2))\n",
    ")\n",
    "rho_bath = rho_un / np.trace(rho_un)\n",
    "rho_bath\n",
    "\n",
    "delta_t = 0.2\n",
    "\n",
    "rho_system_0 = jnp.array(\n",
    "    qt.ket2dm((1 * qt.basis(2, 0) + 1 * qt.basis(2, 1)).unit()).full()\n",
    ")\n",
    "\n",
    "U = expm(1j * (delta_t * H_T.full()))\n",
    "# rho_bath"
   ]
  },
  {
   "cell_type": "code",
   "execution_count": 41,
   "metadata": {},
   "outputs": [
    {
     "data": {
      "text/plain": [
       "array([[0.99523038, 0.        ],\n",
       "       [0.        , 0.00476962]])"
      ]
     },
     "execution_count": 41,
     "metadata": {},
     "output_type": "execute_result"
    }
   ],
   "source": [
    "rho_bath"
   ]
  },
  {
   "cell_type": "code",
   "execution_count": 40,
   "metadata": {},
   "outputs": [
    {
     "data": {
      "text/plain": [
       "Array([[0.5+0.j, 0.5+0.j],\n",
       "       [0.5+0.j, 0.5+0.j]], dtype=complex64)"
      ]
     },
     "execution_count": 40,
     "metadata": {},
     "output_type": "execute_result"
    }
   ],
   "source": [
    "rho_system_0"
   ]
  },
  {
   "cell_type": "code",
   "execution_count": 42,
   "metadata": {},
   "outputs": [],
   "source": [
    "re = []\n",
    "rho_s_i = rho_system_0\n",
    "for _ in range(2000):\n",
    "    rho_s_i = apply_iteration(rho_s_i, rho_bath, U)\n",
    "    re.append(rho_s_i)\n",
    "\n",
    "re = np.array(re)"
   ]
  },
  {
   "cell_type": "code",
   "execution_count": 43,
   "metadata": {},
   "outputs": [
    {
     "name": "stderr",
     "output_type": "stream",
     "text": [
      "/home/antonio/miniconda3/envs/jax_qdots/lib/python3.12/site-packages/matplotlib/cbook.py:1699: ComplexWarning: Casting complex values to real discards the imaginary part\n",
      "  return math.isfinite(val)\n",
      "/home/antonio/miniconda3/envs/jax_qdots/lib/python3.12/site-packages/matplotlib/cbook.py:1345: ComplexWarning: Casting complex values to real discards the imaginary part\n",
      "  return np.asarray(x, float)\n"
     ]
    },
    {
     "data": {
      "image/png": "[encoded data removed]",
      "text/plain": [
       "<Figure size 640x480 with 1 Axes>"
      ]
     },
     "metadata": {},
     "output_type": "display_data"
    }
   ],
   "source": [
    "plt.plot(re[:, 0, 0])\n",
    "plt.axhline(jnp.real(rho_bath[0, 0]), label=\"steady state\")\n",
    "plt.legend()\n",
    "plt.show()"
   ]
  },
  {
   "cell_type": "code",
   "execution_count": 429,
   "metadata": {},
   "outputs": [],
   "source": [
    "from scipy.constants import k, hbar"
   ]
  },
  {
   "cell_type": "code",
   "execution_count": null,
   "metadata": {},
   "outputs": [],
   "source": []
  }
 ],
 "metadata": {
  "kernelspec": {
   "display_name": "jax",
   "language": "python",
   "name": "python3"
  },
  "language_info": {
   "codemirror_mode": {
    "name": "ipython",
    "version": 3
   },
   "file_extension": ".py",
   "mimetype": "text/x-python",
   "name": "python",
   "nbconvert_exporter": "python",
   "pygments_lexer": "ipython3",
   "version": "3.12.1"
  }
 },
 "nbformat": 4,
 "nbformat_minor": 2
}
